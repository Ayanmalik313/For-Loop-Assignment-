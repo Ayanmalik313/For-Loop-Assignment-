{
 "cells": [
  {
   "cell_type": "code",
   "execution_count": 1,
   "metadata": {},
   "outputs": [
    {
     "name": "stdout",
     "output_type": "stream",
     "text": [
      "1\n",
      "2\n",
      "3\n",
      "4\n",
      "5\n",
      "6\n",
      "7\n",
      "8\n",
      "9\n",
      "10\n"
     ]
    }
   ],
   "source": [
    "# Basic Level\n",
    "\n",
    "# Cell 1: Print the numbers from 1 to 10 using a for loop\n",
    "for i in range(1, 11):\n",
    "    print(i)\n",
    "\n",
    "# Explanation:\n",
    "# - `range(1, 11)` generates numbers from 1 to 10.\n",
    "# - `for i in range(1, 11):` iterates over these numbers.\n",
    "# - `print(i)` prints each number.\n"
   ]
  },
  {
   "cell_type": "code",
   "execution_count": null,
   "metadata": {},
   "outputs": [],
   "source": [
    "# 2. Calculate the sum of all numbers in a list using a for loop\n",
    "numbers = [1, 2, 3, 4, 5]\n",
    "total = 0\n",
    "for num in numbers:\n",
    "    total += num\n",
    "print(total)\n",
    "\n",
    "# Explanation:\n",
    "# - `numbers` is the list of numbers to sum.\n",
    "# - `total` initializes the sum to 0.\n",
    "# - `for num in numbers:` iterates over each number in the list.\n",
    "# - `total += num` adds each number to `total`.\n",
    "# - `print(total)` prints the final sum.\n"
   ]
  },
  {
   "cell_type": "code",
   "execution_count": null,
   "metadata": {},
   "outputs": [],
   "source": [
    "# 3. Print the characters of a string in reverse order using a for loop\n",
    "string = \"hello\"\n",
    "for char in reversed(string):\n",
    "    print(char, end=\"\")\n",
    "\n",
    "# Explanation:\n",
    "# - `string` is the string to reverse.\n",
    "# - `reversed(string)` generates characters in reverse order.\n",
    "# - `for char in reversed(string):` iterates over these characters.\n",
    "# - `print(char, end=\"\")` prints each character without a newline.\n"
   ]
  },
  {
   "cell_type": "code",
   "execution_count": null,
   "metadata": {},
   "outputs": [],
   "source": [
    "# 4. Find the factorial of a given number using a for loop\n",
    "number = 5\n",
    "factorial = 1\n",
    "for i in range(1, number + 1):\n",
    "    factorial *= i\n",
    "print(factorial)\n",
    "\n",
    "# Explanation:\n",
    "# - `number` is the number to find the factorial of.\n",
    "# - `factorial` initializes the factorial to 1.\n",
    "# - `for i in range(1, number + 1):` iterates from 1 to the given number.\n",
    "# - `factorial *= i` multiplies `factorial` by `i` in each iteration.\n",
    "# - `print(factorial)` prints the resulting factorial.\n",
    "\n"
   ]
  },
  {
   "cell_type": "code",
   "execution_count": null,
   "metadata": {},
   "outputs": [],
   "source": [
    "# 5. Print the multiplication table of a given number using a for loop\n",
    "number = 3\n",
    "for i in range(1, 11):\n",
    "    print(f\"{number} x {i} = {number * i}\")\n",
    "\n",
    "# Explanation:\n",
    "# - `number` is the number for which to print the multiplication table.\n",
    "# - `for i in range(1, 11):` iterates from 1 to 10.\n",
    "# - `print(f\"{number} x {i} = {number * i}\")` prints each multiplication step.\n"
   ]
  },
  {
   "cell_type": "code",
   "execution_count": null,
   "metadata": {},
   "outputs": [],
   "source": [
    "# 6. Count the number of even and odd numbers in a list using a for loop\n",
    "numbers = [1, 2, 3, 4, 5, 6, 7, 8, 9, 10]\n",
    "even_count = 0\n",
    "odd_count = 0\n",
    "for num in numbers:\n",
    "    if num % 2 == 0:\n",
    "        even_count += 1\n",
    "    else:\n",
    "        odd_count += 1\n",
    "print(f\"Even numbers: {even_count}, Odd numbers: {odd_count}\")\n",
    "\n",
    "# Explanation:\n",
    "# - `numbers` is the list to check.\n",
    "# - `even_count` and `odd_count` initialize counts to 0.\n",
    "# - `for num in numbers:` iterates over each number in the list.\n",
    "# - `if num % 2 == 0:` checks if the number is even.\n",
    "# - `even_count += 1` increments the even count if the number is even.\n",
    "# - `else:` handles the odd numbers.\n",
    "# - `odd_count += 1` increments the odd count if the number is odd.\n",
    "# - `print(f\"Even numbers: {even_count}, Odd numbers: {odd_count}\")` prints the counts.\n"
   ]
  },
  {
   "cell_type": "code",
   "execution_count": null,
   "metadata": {},
   "outputs": [],
   "source": [
    "# 7. Print the squares of numbers from 1 to 5 using a for loop\n",
    "for i in range(1, 6):\n",
    "    print(f\"The square of {i} is {i ** 2}\")\n",
    "\n",
    "# Explanation:\n",
    "# - `range(1, 6)` generates numbers from 1 to 5.\n",
    "# - `for i in range(1, 6):` iterates over these numbers.\n",
    "# - `print(f\"The square of {i} is {i ** 2}\")` prints the square of each number.\n"
   ]
  },
  {
   "cell_type": "code",
   "execution_count": null,
   "metadata": {},
   "outputs": [],
   "source": [
    "# 8. Find the length of a string without using the len() function\n",
    "string = \"hello\"\n",
    "length = 0\n",
    "for char in string:\n",
    "    length += 1\n",
    "print(f\"The length of the string is {length}\")\n",
    "\n",
    "# Explanation:\n",
    "# - `string` is the string to find the length of.\n",
    "# - `length` initializes the length to 0.\n",
    "# - `for char in string:` iterates over each character in the string.\n",
    "# - `length += 1` increments the length count for each character.\n",
    "# - `print(f\"The length of the string is {length}\")` prints the final length.\n"
   ]
  },
  {
   "cell_type": "code",
   "execution_count": null,
   "metadata": {},
   "outputs": [],
   "source": [
    "# 9. Calculate the average of a list of numbers using a for loop\n",
    "numbers = [10, 20, 30, 40, 50]\n",
    "total = 0\n",
    "for num in numbers:\n",
    "    total += num\n",
    "average = total / len(numbers)\n",
    "print(f\"The average is {average}\")\n",
    "\n",
    "# Explanation:\n",
    "# - `numbers` is the list of numbers to calculate the average of.\n",
    "# - `total` initializes the sum to 0.\n",
    "# - `for num in numbers:` iterates over each number in the list.\n",
    "# - `total += num` adds each number to `total`.\n",
    "# - `average = total / len(numbers)` calculates the average.\n",
    "# - `print(f\"The average is {average}\")` prints the average.\n"
   ]
  },
  {
   "cell_type": "code",
   "execution_count": null,
   "metadata": {},
   "outputs": [],
   "source": [
    "# 10. Print the first n Fibonacci numbers using a for loop\n",
    "n = 10\n",
    "a, b = 0, 1\n",
    "print(a, b, end=\" \")\n",
    "for _ in range(2, n):\n",
    "    a, b = b, a + b\n",
    "    print(b, end=\" \")\n",
    "\n",
    "# Explanation:\n",
    "# - `n` is the number of Fibonacci numbers to print.\n",
    "# - `a` and `b` initialize the first two Fibonacci numbers.\n",
    "# - `print(a, b, end=\" \")` prints the first two numbers.\n",
    "# - `for _ in range(2, n):` iterates from 2 to `n-1`.\n",
    "# - `a, b = b, a + b` updates `a` and `b` to the next Fibonacci numbers.\n",
    "# - `print(b, end=\" \")` prints the next Fibonacci number.\n"
   ]
  },
  {
   "cell_type": "code",
   "execution_count": null,
   "metadata": {},
   "outputs": [],
   "source": [
    "# 11. Check if a given list contains any duplicates using a for loop\n",
    "numbers = [1, 2, 3, 4, 5, 3]\n",
    "found_duplicates = False\n",
    "seen = []\n",
    "for num in numbers:\n",
    "    if num in seen:\n",
    "        found_duplicates = True\n",
    "        break\n",
    "    seen.append(num)\n",
    "print(f\"Contains duplicates: {found_duplicates}\")\n",
    "\n",
    "# Explanation:\n",
    "# - `numbers` is the list to check for duplicates.\n",
    "# - `found_duplicates` initializes the duplicate check to `False`.\n",
    "# - `seen` is a list to keep track of seen numbers.\n",
    "# - `for num in numbers:` iterates over each number in the list.\n",
    "# - `if num in seen:` checks if the number has been seen before.\n",
    "# - `found_duplicates = True` sets the flag to `True` if a duplicate is found.\n",
    "# - `break` exits the loop if a duplicate is found.\n",
    "# - `seen.append(num)` adds the number to the list of seen numbers.\n",
    "# - `print(f\"Contains duplicates: {found_duplicates}\")` prints the result.\n"
   ]
  },
  {
   "cell_type": "code",
   "execution_count": null,
   "metadata": {},
   "outputs": [],
   "source": [
    "# 12. Print the prime numbers in a given range using a for loop\n",
    "start = 10\n",
    "end = 50\n",
    "for num in range(start, end + 1):\n",
    "    if num > 1:\n",
    "        for i in range(2, num):\n",
    "            if (num % i) == 0:\n",
    "                break\n",
    "        else:\n",
    "            print(num)\n",
    "\n",
    "# Explanation:\n",
    "# - `start` and `end` define the range to check for prime numbers.\n",
    "# - `for num in range(start, end + 1):` iterates over the range.\n",
    "# - `if num > 1:` ensures the number is greater than 1 (primes are > 1).\n",
    "# - `for i in range(2, num):` checks for factors of `num`.\n",
    "# - `if (num % i) == 0:` breaks the loop if a factor is found.\n",
    "# - `else:` handles numbers with no factors (prime numbers).\n",
    "# - `print(num)` prints the prime numbers.\n"
   ]
  },
  {
   "cell_type": "code",
   "execution_count": null,
   "metadata": {},
   "outputs": [],
   "source": [
    "# 13. Count the number of vowels in a string using a for loop\n",
    "string = \"hello world\"\n",
    "vowels = \"aeiou\"\n",
    "count = 0\n",
    "for char in string:\n",
    "    if char in vowels:\n",
    "        count += 1\n",
    "print(f\"Number of vowels: {count}\")\n",
    "\n",
    "# Explanation:\n",
    "# - `string` is the string to check for vowels.\n",
    "# - `vowels` defines the vowels to check.\n",
    "# - `count` initializes the vowel count to 0.\n",
    "# - `for char in string:` iterates over each character in the string.\n",
    "# - `if char in vowels:` checks if the character is a vowel.\n",
    "# - `count += 1` increments the vowel count if the character is a vowel.\n",
    "# - `print(f\"Number of vowels: {count}\")` prints the vowel count.\n"
   ]
  },
  {
   "cell_type": "code",
   "execution_count": null,
   "metadata": {},
   "outputs": [],
   "source": [
    "# 14. Find the maximum element in a 2D list using a nested for loop\n",
    "matrix = [\n",
    "    [1, 2, 3],\n",
    "    [4, 5, 6],\n",
    "    [7, 8, 9]\n",
    "]\n",
    "max_element = matrix[0][0]\n",
    "for row in matrix:\n",
    "    for element in row:\n",
    "        if element > max_element:\n",
    "            max_element = element\n",
    "print(f\"Maximum element: {max_element}\")\n",
    "\n",
    "# Explanation:\n",
    "# - `matrix` is the 2D list to check.\n",
    "# - `max_element` initializes to the first element of the matrix.\n",
    "# - `for row in matrix:` iterates over each row in the matrix.\n",
    "# - `for element in row:` iterates over each element in the row.\n",
    "# - `if element > max_element:` updates `max_element` if the current element is greater.\n",
    "# - `print(f\"Maximum element: {max_element}\")` prints the maximum element.\n"
   ]
  },
  {
   "cell_type": "code",
   "execution_count": null,
   "metadata": {},
   "outputs": [],
   "source": [
    "# 15. Remove all occurrences of a specific element from a list using a for loop\n",
    "numbers = [1, 2, 3, 4, 3, 5, 3]\n",
    "element_to_remove = 3\n",
    "filtered_numbers = []\n",
    "for num in numbers:\n",
    "    if num != element_to_remove:\n",
    "        filtered_numbers.append(num)\n",
    "print(filtered_numbers)\n",
    "\n",
    "# Explanation:\n",
    "# - `numbers` is the list to filter.\n",
    "# - `element_to_remove` is the element to remove from the list.\n",
    "# - `filtered_numbers` initializes to an empty list.\n",
    "# - `for num in numbers:` iterates over each number in the list.\n",
    "# - `if num != element_to_remove:` checks if the number is not the one to remove.\n",
    "# - `filtered_numbers.append(num)` adds the number to `filtered_numbers` if it's not to be removed.\n",
    "# - `print(filtered_numbers)` prints the filtered list.\n"
   ]
  },
  {
   "cell_type": "code",
   "execution_count": null,
   "metadata": {},
   "outputs": [],
   "source": [
    "# 16. Generate a multiplication table for numbers from 1 to 5 using a nested for loop\n",
    "for i in range(1, 6):\n",
    "    for j in range(1, 11):\n",
    "        print(f\"{i} x {j} = {i * j}\")\n",
    "    print()  # Add a new line for better readability\n",
    "\n",
    "# Explanation:\n",
    "# - `for i in range(1, 6):` iterates over numbers from 1 to 5.\n",
    "# - `for j in range(1, 11):` iterates over numbers from 1 to 10.\n",
    "# - `print(f\"{i} x {j} = {i * j}\")` prints each multiplication step.\n",
    "# - `print()` adds a new line after each table for readability.\n"
   ]
  },
  {
   "cell_type": "code",
   "execution_count": null,
   "metadata": {},
   "outputs": [],
   "source": [
    "# 17. Convert a list of Fahrenheit temperatures to Celsius using a for loop\n",
    "fahrenheit = [32, 212, 100, 50]\n",
    "celsius = []\n",
    "for temp in fahrenheit:\n",
    "    celsius.append((temp - 32) * 5/9)\n",
    "print(celsius)\n",
    "\n",
    "# Explanation:\n",
    "# - `fahrenheit` is the list of temperatures in Fahrenheit.\n",
    "# - `celsius` initializes to an empty list.\n",
    "# - `for temp in fahrenheit:` iterates over each temperature in Fahrenheit.\n",
    "# - `celsius.append((temp - 32) * 5/9)` converts the temperature to Celsius and adds it to `celsius`.\n",
    "# - `print(celsius)` prints the list of temperatures in Celsius.\n"
   ]
  },
  {
   "cell_type": "code",
   "execution_count": null,
   "metadata": {},
   "outputs": [],
   "source": [
    "# 18. Print the common elements from two lists using a for loop\n",
    "list1 = [1, 2, 3, 4, 5]\n",
    "list2 = [4, 5, 6, 7, 8]\n",
    "common_elements = []\n",
    "for element in list1:\n",
    "    if element in list2:\n",
    "        common_elements.append(element)\n",
    "print(common_elements)\n",
    "\n",
    "# Explanation:\n",
    "# - `list1` and `list2` are the lists to find common elements in.\n",
    "# - `common_elements` initializes to an empty list.\n",
    "# - `for element in list1:` iterates over each element in `list1`.\n",
    "# - `if element in list2:` checks if the element is also in `list2`.\n",
    "# - `common_elements.append(element)` adds the common element to `common_elements\n"
   ]
  },
  {
   "cell_type": "code",
   "execution_count": null,
   "metadata": {},
   "outputs": [],
   "source": [
    "# 19. Print the pattern of right-angled triangles using a for loop. Use ‘*’ to draw the pattern\n",
    "n = 5\n",
    "for i in range(1, n + 1):\n",
    "    print('*' * i)\n",
    "\n",
    "# Explanation:\n",
    "# - `n` is the number of rows for the triangle.\n",
    "# - `for i in range(1, n + 1):` iterates from 1 to `n`.\n",
    "# - `print('*' * i)` prints `i` asterisks for each row.\n"
   ]
  },
  {
   "cell_type": "code",
   "execution_count": null,
   "metadata": {},
   "outputs": [],
   "source": [
    "# 20. Find the greatest common divisor (GCD) of two numbers using a for loop\n",
    "a = 48\n",
    "b = 18\n",
    "gcd = 1\n",
    "for i in range(1, min(a, b) + 1):\n",
    "    if a % i == 0 and b % i == 0:\n",
    "        gcd = i\n",
    "print(f\"The GCD of {a} and {b} is {gcd}\")\n",
    "\n",
    "# Explanation:\n",
    "# - `a` and `b` are the numbers to find the GCD of.\n",
    "# - `gcd` initializes to 1.\n",
    "# - `for i in range(1, min(a, b) + 1):` iterates from 1 to the smaller of `a` and `b`.\n",
    "# - `if a % i == 0 and b % i == 0:` checks if `i` is a common divisor of `a` and `b`.\n",
    "# - `gcd = i` updates the GCD to `i`.\n",
    "# - `print(f\"The GCD of {a} and {b} is {gcd}\")` prints the GCD.\n"
   ]
  },
  {
   "cell_type": "code",
   "execution_count": null,
   "metadata": {},
   "outputs": [],
   "source": [
    "# 21. Calculate the sum of the digits of numbers in a list using a list comprehension\n",
    "numbers = [123, 456, 789]\n",
    "sum_of_digits = [sum(int(digit) for digit in str(num)) for num in numbers]\n",
    "print(sum_of_digits)\n",
    "\n",
    "# Explanation:\n",
    "# - `numbers` is the list of numbers.\n",
    "# - `[sum(int(digit) for digit in str(num)) for num in numbers]` generates the sum of digits for each number using a list comprehension.\n",
    "# - `sum_of_digits` stores the resulting sums.\n",
    "# - `print(sum_of_digits)` prints the sums.\n"
   ]
  },
  {
   "cell_type": "code",
   "execution_count": null,
   "metadata": {},
   "outputs": [],
   "source": [
    "# 22. Find the prime factors of a given number using a for loop and list comprehension\n",
    "number = 28\n",
    "factors = []\n",
    "for i in range(2, number + 1):\n",
    "    while number % i == 0:\n",
    "        factors.append(i)\n",
    "        number //= i\n",
    "print(factors)\n",
    "\n",
    "# Explanation:\n",
    "# - `number` is the number to find the prime factors of.\n",
    "# - `factors` is the list to store the prime factors.\n",
    "# - `for i in range(2, number + 1):` iterates from 2 to the number.\n",
    "# - `while number % i == 0:` checks if `i` is a factor of `number`.\n",
    "# - `factors.append(i)` adds `i` to the list of factors.\n",
    "# - `number //= i` reduces `number` by dividing it by `i`.\n",
    "# - The process continues until `number` is no longer divisible by `i`.\n",
    "# - `print(factors)` prints the list of prime factors.\n"
   ]
  },
  {
   "cell_type": "code",
   "execution_count": null,
   "metadata": {},
   "outputs": [],
   "source": []
  }
 ],
 "metadata": {
  "kernelspec": {
   "display_name": "Python 3",
   "language": "python",
   "name": "python3"
  },
  "language_info": {
   "name": "python",
   "version": "3.11.5"
  }
 },
 "nbformat": 4,
 "nbformat_minor": 2
}
